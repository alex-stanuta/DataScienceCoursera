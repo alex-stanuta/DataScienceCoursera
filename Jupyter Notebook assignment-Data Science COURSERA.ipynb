{
    "nbformat_minor": 1, 
    "cells": [
        {
            "source": "# My Jupyter Notebook on IBM Data Science Experience", 
            "cell_type": "markdown", 
            "metadata": {
                "collapsed": true
            }
        }, 
        {
            "source": "**Alexandru Stanuta**  \nCurrent: Salesman -- Dreaming of: Data Scientist", 
            "cell_type": "markdown", 
            "metadata": {}
        }, 
        {
            "source": "_I am interested in data science because it is a very interesting \"new\" field, that is constantly \"spreading\"._", 
            "cell_type": "markdown", 
            "metadata": {}
        }, 
        {
            "source": "### The following code will perform a simple multiplication", 
            "cell_type": "markdown", 
            "metadata": {}
        }, 
        {
            "source": "2 * 13", 
            "cell_type": "code", 
            "metadata": {}, 
            "outputs": [
                {
                    "output_type": "execute_result", 
                    "data": {
                        "text/plain": "26"
                    }, 
                    "execution_count": 1, 
                    "metadata": {}
                }
            ], 
            "execution_count": 1
        }, 
        {
            "source": "1. First item\n2. Second item  \n\n~~This is all~~  \nI am a retro gamer, so...  \n<img src=https://www.retrogamer.net/wp-content/uploads/2014/05/Top-10-NES-Games-616x410.png>", 
            "cell_type": "markdown", 
            "metadata": {}
        }
    ], 
    "metadata": {
        "kernelspec": {
            "display_name": "Python 3.5", 
            "name": "python3", 
            "language": "python"
        }, 
        "language_info": {
            "mimetype": "text/x-python", 
            "nbconvert_exporter": "python", 
            "version": "3.5.5", 
            "name": "python", 
            "pygments_lexer": "ipython3", 
            "file_extension": ".py", 
            "codemirror_mode": {
                "version": 3, 
                "name": "ipython"
            }
        }
    }, 
    "nbformat": 4
}